{
 "cells": [
  {
   "cell_type": "markdown",
   "metadata": {},
   "source": [
    "# Análisis de satisfacción para aerolinea"
   ]
  },
  {
   "cell_type": "code",
   "execution_count": null,
   "metadata": {},
   "outputs": [],
   "source": [
    "import numpy as np\n",
    "import matplotlib.pyplot as plt\n",
    "import pandas as pd\n",
    "import seaborn as sns\n",
    "import sklearn\n",
    "from sklearn.neighbors import KNeighborsClassifier\n",
    "from sklearn.model_selection import GridSearchCV\n",
    "from sklearn.svm import SVC\n",
    "from sklearn import ensemble\n",
    "from sklearn.neural_network import MLPClassifier\n",
    "from sklearn.metrics import accuracy_score\n",
    "from sklearn.preprocessing import OneHotEncoder\n",
    "import warnings\n",
    "from  pandasgui import show"
   ]
  },
  {
   "cell_type": "code",
   "execution_count": null,
   "metadata": {},
   "outputs": [],
   "source": [
    "df = pd.read_csv('../data/airline_passenger_satisfaction.csv')\n",
    "\n",
    "pd.set_option(\"display.max_columns\", None)\n",
    "warnings.filterwarnings(\"ignore\")\n",
    "df.head(10)"
   ]
  },
  {
   "cell_type": "code",
   "execution_count": null,
   "metadata": {},
   "outputs": [],
   "source": [
    "df.info()"
   ]
  },
  {
   "cell_type": "markdown",
   "metadata": {},
   "source": [
    "## Interpretación de datos"
   ]
  },
  {
   "cell_type": "markdown",
   "metadata": {},
   "source": [
    "- **Gender**: Femenino o masculino  \n",
    "- **Customer type**: Cliente de aerolinea (regular o no regular)   \n",
    "- **Age**: Edad del pasajero  \n",
    "- **Type of travel**: El propósito del vuelo del pasajero (viaje personal o de negocios)  \n",
    "- **Class**: business, economy, economy plus  \n",
    "- **Flight distance**: Distancia de vuelo  \n",
    "- **Inflight wifi service**: Nivel de satisfacción con el servicio wifi a bordo (0: no puntuado; 1-5)  \n",
    "- **Departure/Arrival time convenient**: Nivel de satisfacción de la hora de salida/llegada (0: no calificado; 1-5) Facilidad de reserva  \n",
    "- **Ease of Online booking**: Tasa de satisfacción de reservas online (0: no puntuado; 1-5)  \n",
    "- **Gate location**: Nivel de satisfacción con la ubicación de la puerta (0: no calificado; 1-5)  \n",
    "- **Food and drink**: Nivel de satisfacción con alimentos y bebidas (0: no calificado; 1-5)  \n",
    "- **Online boarding**: Nivel de satisfacción con el embarque online (0: no puntuado; 1-5)  \n",
    "- **Seat comfort**: Nivel de satisfacción del asiento (0: no clasificado; 1-5)  \n",
    "- **Inflight entertainment**: Satisfacción con el entretenimiento durante el vuelo (0: no clasificado; 1-5)  \n",
    "- **On-board service**: Nivel de satisfacción con el servicio a bordo (0: no calificado; 1-5)  \n",
    "- **Leg room service**: Nivel de satisfacción con el servicio de sala de piernas (0: no calificado; 1-5)  \n",
    "- **Baggage handling**: Nivel de satisfacción con el manejo de equipaje (0: no calificado; 1-5)  \n",
    "- **Checkin service**: Nivel de satisfacción con el servicio de check-in (0: no calificado; 1-5)  \n",
    "- **Inflight service**: Nivel de satisfacción con el servicio durante el vuelo (0: no calificado; 1-5)  \n",
    "- **Cleanliness**: Nivel de satisfacción con la limpieza (0: no puntuado; 1-5)"
   ]
  },
  {
   "cell_type": "code",
   "execution_count": null,
   "metadata": {},
   "outputs": [],
   "source": [
    "df.isnull().sum()"
   ]
  },
  {
   "cell_type": "code",
   "execution_count": null,
   "metadata": {},
   "outputs": [],
   "source": [
    "# function delete_columns\n",
    "df = df.drop(\"Unnamed: 0\",axis=1)\n",
    "df = df.drop(\"id\",axis=1)\n",
    "\n",
    "df"
   ]
  },
  {
   "cell_type": "code",
   "execution_count": null,
   "metadata": {},
   "outputs": [],
   "source": [
    "# impute_null\n",
    "df['Arrival Delay in Minutes'].fillna(df['Arrival Delay in Minutes'].median(axis = 0), inplace = True)"
   ]
  },
  {
   "cell_type": "code",
   "execution_count": null,
   "metadata": {},
   "outputs": [],
   "source": [
    "categoricas = ['Gender', 'Customer Type', 'Type of Travel', 'Class', 'satisfaction', 'Inflight wifi service', 'Departure/Arrival time convenient', 'Ease of Online booking', 'Gate location','Food and drink', 'Online boarding','Inflight entertainment', 'On-board service', 'Leg room service','Baggage handling', 'Checkin service', 'Inflight service','Cleanliness']\n",
    "categoricas_one = ['Gender', 'Customer Type', 'Type of Travel', 'Class', 'satisfaction']"
   ]
  },
  {
   "cell_type": "code",
   "execution_count": null,
   "metadata": {},
   "outputs": [],
   "source": [
    "# function convert_objetive_bool\n",
    "df.loc[df['satisfaction'] == \"satisfied\", 'satisfaction'] = True\n",
    "df.loc[df['satisfaction'] == \"neutral or dissatisfied\", 'satisfaction'] = False\n"
   ]
  },
  {
   "cell_type": "code",
   "execution_count": null,
   "metadata": {},
   "outputs": [],
   "source": [
    "encoder = OneHotEncoder(sparse_output=False)\n",
    "dfCodificador = encoder.fit_transform(df[categoricas_one])\n",
    "columnasNuevas = encoder.get_feature_names_out(categoricas_one)\n",
    "dfcodificado = pd.DataFrame(dfCodificador, columns= columnasNuevas)\n",
    "\n",
    "df = pd.concat([df, dfcodificado], axis=1)\n",
    "df.drop(categoricas_one, axis=1, inplace=True)\n",
    "\n",
    "df"
   ]
  },
  {
   "cell_type": "code",
   "execution_count": null,
   "metadata": {},
   "outputs": [],
   "source": [
    "df = df.drop([\"satisfaction_False\", \"Type of Travel_Personal Travel\", \"Gender_Male\", \"Customer Type_disloyal Customer\"], axis=1)"
   ]
  },
  {
   "cell_type": "code",
   "execution_count": null,
   "metadata": {},
   "outputs": [],
   "source": [
    "df = df.rename(columns={\"satisfaction_True\" : \"Satisfied\", \"Type of Travel_Business travel\" : \"Business travel\", \"Gender_Female\" : \"Gender\", \"Customer Type_Loyal Customer\" : \"Loyal Customer\"})\n",
    "\n",
    "#En la columna Gender, se divide en Famale y Male, para Female es 1 y Male es 0"
   ]
  },
  {
   "cell_type": "code",
   "execution_count": null,
   "metadata": {},
   "outputs": [],
   "source": [
    "df"
   ]
  },
  {
   "cell_type": "code",
   "execution_count": null,
   "metadata": {},
   "outputs": [],
   "source": [
    "#Escalado de columnas numericas\n",
    "\n",
    "from sklearn.preprocessing import MinMaxScaler\n",
    "\n",
    "columns_to_scale = ['Age', 'Flight Distance', 'Departure Delay in Minutes', 'Arrival Delay in Minutes']\n",
    "\n",
    "scaler = MinMaxScaler()\n",
    "df[columns_to_scale] = scaler.fit_transform(df[columns_to_scale])"
   ]
  },
  {
   "cell_type": "code",
   "execution_count": null,
   "metadata": {},
   "outputs": [],
   "source": [
    "#Modelo de Random Forest\n",
    "\n",
    "#importamos librerias\n",
    "from sklearn.model_selection import train_test_split\n",
    "from sklearn.ensemble import RandomForestClassifier\n",
    "from sklearn.metrics import accuracy_score\n",
    "from sklearn.preprocessing import StandardScaler, MinMaxScaler\n",
    "from sklearn.metrics import mean_squared_error\n",
    "from sklearn.metrics import confusion_matrix, precision_score, recall_score, f1_score\n",
    "\n",
    "from matplotlib import rcParams\n",
    "import warnings\n",
    "\n",
    "warnings.filterwarnings(\"ignore\")\n",
    "\n",
    "# tamaño de la figura en pulgadas\n",
    "rcParams[\"figure.figsize\"] = 10, 6\n",
    "np.random.seed(42)"
   ]
  },
  {
   "cell_type": "code",
   "execution_count": null,
   "metadata": {},
   "outputs": [],
   "source": [
    "#separamos nuestro variable X y nuestra variable Y que utilizara el modelo \n",
    "X = df.drop(\"Satisfied\", axis=1)\n",
    "y = df[\"Satisfied\"]"
   ]
  },
  {
   "cell_type": "code",
   "execution_count": null,
   "metadata": {},
   "outputs": [],
   "source": [
    "#Separacion de de datos de entrenamiento y de prueba\n",
    "X_train, X_test, y_train, y_test = train_test_split(X, y, stratify=y, test_size=0.20, random_state=42)"
   ]
  },
  {
   "cell_type": "code",
   "execution_count": null,
   "metadata": {},
   "outputs": [],
   "source": [
    "#Creacion y entrenamiento del Random Forest\n",
    "classifier = RandomForestClassifier(n_estimators=3)\n",
    "classifier.fit(X_train,y_train)"
   ]
  },
  {
   "cell_type": "code",
   "execution_count": null,
   "metadata": {},
   "outputs": [],
   "source": [
    "\n",
    "#Prediccion de nuestros datos de prueba\n",
    "y_pred = classifier.predict(X_test)"
   ]
  },
  {
   "cell_type": "code",
   "execution_count": null,
   "metadata": {},
   "outputs": [],
   "source": [
    "#Accuracy de nuestro modelo\n",
    "print(\"Precisión:\", accuracy_score(y_test, y_pred))"
   ]
  },
  {
   "cell_type": "code",
   "execution_count": null,
   "metadata": {},
   "outputs": [],
   "source": [
    "#Muestra de variables mas importantes para el modelo\n",
    "feature_importances_df = pd.DataFrame(\n",
    "    {\"feature\": list(X.columns), \"importance\": classifier.feature_importances_}\n",
    ").sort_values(\"importance\", ascending=False)\n",
    "\n",
    "# Mostrar\n",
    "feature_importances_df"
   ]
  },
  {
   "cell_type": "code",
   "execution_count": null,
   "metadata": {},
   "outputs": [],
   "source": [
    "#Grafico de variables mas importantes para el modelo\n",
    "\n",
    "sns.barplot(x=feature_importances_df.feature, y=feature_importances_df.importance)\n",
    "# agregar estiquestas\n",
    "\n",
    "plt.xlabel(\"Feature Importance Score\")\n",
    "plt.ylabel(\"Features\")\n",
    "plt.title(\"Visualizing Important Features\")\n",
    "plt.xticks(\n",
    "    rotation=45, horizontalalignment=\"right\", fontweight=\"light\", fontsize=\"x-large\"\n",
    ")\n",
    "plt.show()"
   ]
  }
 ],
 "metadata": {
  "kernelspec": {
   "display_name": "passenger",
   "language": "python",
   "name": "python3"
  },
  "language_info": {
   "codemirror_mode": {
    "name": "ipython",
    "version": 3
   },
   "file_extension": ".py",
   "mimetype": "text/x-python",
   "name": "python",
   "nbconvert_exporter": "python",
   "pygments_lexer": "ipython3",
   "version": "3.11.4"
  },
  "orig_nbformat": 4
 },
 "nbformat": 4,
 "nbformat_minor": 2
}
